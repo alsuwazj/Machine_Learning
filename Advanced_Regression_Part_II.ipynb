{
 "cells": [
  {
   "cell_type": "code",
   "execution_count": 8,
   "metadata": {},
   "outputs": [],
   "source": [
    "import numpy as np\n",
    "import matplotlib as mpl\n",
    "import matplotlib.pyplot as plt\n",
    "\n",
    "X = 2 * np.random.rand(100, 1)\n",
    "y = 4 + 3 * X + np.random.randn(100, 1)"
   ]
  },
  {
   "cell_type": "code",
   "execution_count": 2,
   "metadata": {},
   "outputs": [
    {
     "name": "stdout",
     "output_type": "stream",
     "text": [
      "[[0.14685514]\n",
      " [1.03612307]\n",
      " [1.57260119]\n",
      " [0.20518715]\n",
      " [0.47888579]\n",
      " [1.01867016]\n",
      " [1.3532976 ]\n",
      " [1.13236923]\n",
      " [1.85674937]\n",
      " [0.83264604]\n",
      " [1.91703005]\n",
      " [0.50618735]\n",
      " [1.56402768]\n",
      " [0.05828484]\n",
      " [1.51085268]\n",
      " [1.915791  ]\n",
      " [1.23231262]\n",
      " [0.12579802]\n",
      " [0.77362143]\n",
      " [0.92816524]\n",
      " [0.47487788]\n",
      " [1.92230169]\n",
      " [1.86897865]\n",
      " [0.79424888]\n",
      " [1.94532549]\n",
      " [0.21392376]\n",
      " [0.98416375]\n",
      " [0.34932006]\n",
      " [0.99755079]\n",
      " [1.32841448]\n",
      " [0.92278714]\n",
      " [0.57984488]\n",
      " [1.05198795]\n",
      " [0.65610123]\n",
      " [1.02715558]\n",
      " [0.67181022]\n",
      " [1.69215137]\n",
      " [1.08146607]\n",
      " [0.62589383]\n",
      " [0.35167019]\n",
      " [0.71759202]\n",
      " [0.69467184]\n",
      " [0.24396406]\n",
      " [1.60823293]\n",
      " [0.4802383 ]\n",
      " [0.35298825]\n",
      " [0.52306157]\n",
      " [0.06017245]\n",
      " [1.26957608]\n",
      " [0.76165165]\n",
      " [0.74095783]\n",
      " [1.03499833]\n",
      " [1.89093999]\n",
      " [0.15030969]\n",
      " [0.47441371]\n",
      " [0.19721203]\n",
      " [1.18881001]\n",
      " [1.32079764]\n",
      " [0.87744904]\n",
      " [1.54908905]\n",
      " [1.32025028]\n",
      " [0.12410958]\n",
      " [1.17001997]\n",
      " [0.90681907]\n",
      " [1.21393341]\n",
      " [1.37614437]\n",
      " [0.8412415 ]\n",
      " [0.94063815]\n",
      " [1.06537402]\n",
      " [1.19361278]\n",
      " [0.52435698]\n",
      " [1.14380846]\n",
      " [0.68716768]\n",
      " [0.98804068]\n",
      " [0.9327269 ]\n",
      " [0.71989322]\n",
      " [0.56840468]\n",
      " [0.76778214]\n",
      " [0.93670421]\n",
      " [0.45079752]\n",
      " [1.69547228]\n",
      " [1.92446118]\n",
      " [0.80078149]\n",
      " [0.15463249]\n",
      " [0.05440978]\n",
      " [1.8282526 ]\n",
      " [1.42011238]\n",
      " [0.31949745]\n",
      " [0.88654395]\n",
      " [1.97040154]\n",
      " [0.26174922]\n",
      " [0.15890528]\n",
      " [0.25300269]\n",
      " [1.02433702]\n",
      " [1.31056985]\n",
      " [0.55507927]\n",
      " [0.68352935]\n",
      " [1.82729199]\n",
      " [0.820906  ]\n",
      " [0.9693886 ]]\n"
     ]
    }
   ],
   "source": [
    "print(X)"
   ]
  },
  {
   "cell_type": "code",
   "execution_count": 3,
   "metadata": {},
   "outputs": [
    {
     "name": "stdout",
     "output_type": "stream",
     "text": [
      "[[ 6.07000557]\n",
      " [ 5.97333006]\n",
      " [ 8.85793297]\n",
      " [ 4.65994276]\n",
      " [ 4.70567485]\n",
      " [ 8.35811774]\n",
      " [ 7.40041678]\n",
      " [ 7.94876637]\n",
      " [ 8.01846858]\n",
      " [ 6.84421067]\n",
      " [ 8.79076788]\n",
      " [ 4.19521179]\n",
      " [ 8.48412584]\n",
      " [ 3.10065233]\n",
      " [ 8.91245136]\n",
      " [12.16093163]\n",
      " [ 7.62025982]\n",
      " [ 5.31259252]\n",
      " [ 5.85759193]\n",
      " [ 6.59991532]\n",
      " [ 4.7103598 ]\n",
      " [11.16746121]\n",
      " [ 9.72180393]\n",
      " [ 6.80266376]\n",
      " [11.96398087]\n",
      " [ 5.29777938]\n",
      " [ 7.70473066]\n",
      " [ 5.33550141]\n",
      " [ 6.66117667]\n",
      " [ 7.23808135]\n",
      " [ 8.72408749]\n",
      " [ 6.29953879]\n",
      " [ 8.0132865 ]\n",
      " [ 5.60796286]\n",
      " [ 5.77488062]\n",
      " [ 7.18151485]\n",
      " [ 7.20417228]\n",
      " [ 5.65723914]\n",
      " [ 6.98719555]\n",
      " [ 4.45472189]\n",
      " [ 4.06740162]\n",
      " [ 7.31263067]\n",
      " [ 4.88889846]\n",
      " [10.38469265]\n",
      " [ 3.34628799]\n",
      " [ 5.84166599]\n",
      " [ 6.22481931]\n",
      " [ 2.96890476]\n",
      " [ 7.44711521]\n",
      " [ 7.29417103]\n",
      " [ 6.02852639]\n",
      " [ 6.75427081]\n",
      " [10.86207504]\n",
      " [ 4.54684801]\n",
      " [ 5.69002433]\n",
      " [ 3.74282447]\n",
      " [ 8.948772  ]\n",
      " [ 8.69306902]\n",
      " [ 7.31453678]\n",
      " [ 7.34952392]\n",
      " [ 9.09648889]\n",
      " [ 4.17949804]\n",
      " [ 8.31681155]\n",
      " [ 5.41864698]\n",
      " [ 6.90978811]\n",
      " [ 8.36448724]\n",
      " [ 6.79614795]\n",
      " [ 7.86716271]\n",
      " [ 8.12163068]\n",
      " [ 7.8486467 ]\n",
      " [ 6.30978264]\n",
      " [ 5.55940302]\n",
      " [ 6.20274927]\n",
      " [ 5.96996651]\n",
      " [ 5.95005244]\n",
      " [ 6.95474467]\n",
      " [ 6.13650672]\n",
      " [ 5.78192385]\n",
      " [ 5.64865309]\n",
      " [ 5.86346721]\n",
      " [ 9.26833354]\n",
      " [11.47417002]\n",
      " [ 6.77648602]\n",
      " [ 5.73603204]\n",
      " [ 4.98430678]\n",
      " [ 9.46305798]\n",
      " [ 6.87592471]\n",
      " [ 4.73646161]\n",
      " [ 6.09873399]\n",
      " [ 9.34410504]\n",
      " [ 5.81320869]\n",
      " [ 3.55260637]\n",
      " [ 3.60074572]\n",
      " [ 7.31792384]\n",
      " [ 5.82835188]\n",
      " [ 6.86982365]\n",
      " [ 6.35345102]\n",
      " [ 8.1747937 ]\n",
      " [ 6.21512645]\n",
      " [ 5.4728978 ]]\n"
     ]
    }
   ],
   "source": [
    "print(y)"
   ]
  },
  {
   "cell_type": "code",
   "execution_count": 4,
   "metadata": {},
   "outputs": [
    {
     "data": {
      "image/png": "[encoded data removed]",
      "text/plain": [
       "<Figure size 432x288 with 1 Axes>"
      ]
     },
     "metadata": {
      "needs_background": "light"
     },
     "output_type": "display_data"
    }
   ],
   "source": [
    "plt.plot(X, y, \"b.\")\n",
    "plt.xlabel(\"$x_1$\", fontsize=18)\n",
    "plt.ylabel(\"$y$\", rotation=0, fontsize=18)\n",
    "plt.axis([0, 2, 0, 15])\n",
    "#save_fig(\"generated_data_plot\")\n",
    "plt.show()"
   ]
  },
  {
   "cell_type": "code",
   "execution_count": 5,
   "metadata": {},
   "outputs": [
    {
     "data": {
      "text/plain": [
       "LinearRegression()"
      ]
     },
     "execution_count": 5,
     "metadata": {},
     "output_type": "execute_result"
    }
   ],
   "source": [
    "from sklearn.linear_model import LinearRegression\n",
    "\n",
    "lin_reg = LinearRegression()\n",
    "lin_reg.fit(X, y)"
   ]
  },
  {
   "cell_type": "code",
   "execution_count": 6,
   "metadata": {},
   "outputs": [
    {
     "data": {
      "text/plain": [
       "(array([3.98048002]), array([[3.03660161]]))"
      ]
     },
     "execution_count": 6,
     "metadata": {},
     "output_type": "execute_result"
    }
   ],
   "source": [
    "lin_reg.intercept_, lin_reg.coef_"
   ]
  },
  {
   "cell_type": "code",
   "execution_count": 7,
   "metadata": {},
   "outputs": [],
   "source": [
    "X_new = np.array([[0], [2]])"
   ]
  },
  {
   "cell_type": "code",
   "execution_count": 8,
   "metadata": {},
   "outputs": [
    {
     "name": "stdout",
     "output_type": "stream",
     "text": [
      "[[0]\n",
      " [2]]\n"
     ]
    }
   ],
   "source": [
    "print(X_new)"
   ]
  },
  {
   "cell_type": "code",
   "execution_count": 8,
   "metadata": {},
   "outputs": [
    {
     "data": {
      "text/plain": [
       "array([[ 3.98048002],\n",
       "       [10.05368325]])"
      ]
     },
     "execution_count": 8,
     "metadata": {},
     "output_type": "execute_result"
    }
   ],
   "source": [
    "lin_reg.predict(X_new)"
   ]
  },
  {
   "cell_type": "code",
   "execution_count": null,
   "metadata": {},
   "outputs": [],
   "source": []
  },
  {
   "cell_type": "code",
   "execution_count": 10,
   "metadata": {},
   "outputs": [],
   "source": [
    "## Stochastic Gradient Descent"
   ]
  },
  {
   "cell_type": "code",
   "execution_count": 9,
   "metadata": {},
   "outputs": [],
   "source": [
    "from sklearn.linear_model import SGDRegressor"
   ]
  },
  {
   "cell_type": "code",
   "execution_count": 10,
   "metadata": {},
   "outputs": [],
   "source": [
    "sgd_reg = SGDRegressor(max_iter=1000, tol=1e-3, penalty=None, eta0=0.1, random_state=42)\n",
    "#iterate 1000 or until the loss drops by less than 1e-3 during one epoch\n",
    "#eta learning rate\n",
    "#penalty = none: it does not use any regularization"
   ]
  },
  {
   "cell_type": "code",
   "execution_count": 11,
   "metadata": {},
   "outputs": [
    {
     "data": {
      "text/plain": [
       "SGDRegressor(eta0=0.1, penalty=None, random_state=42)"
      ]
     },
     "execution_count": 11,
     "metadata": {},
     "output_type": "execute_result"
    }
   ],
   "source": [
    "sgd_reg.fit(X, y.ravel())"
   ]
  },
  {
   "cell_type": "code",
   "execution_count": 12,
   "metadata": {},
   "outputs": [
    {
     "data": {
      "text/plain": [
       "(array([3.95824061]), array([3.07019858]))"
      ]
     },
     "execution_count": 12,
     "metadata": {},
     "output_type": "execute_result"
    }
   ],
   "source": [
    "sgd_reg.intercept_, sgd_reg.coef_"
   ]
  },
  {
   "cell_type": "code",
   "execution_count": 9,
   "metadata": {},
   "outputs": [],
   "source": [
    "#Polynomial regression\n",
    "import numpy as np\n",
    "import numpy.random as rnd\n",
    "m=100\n",
    "X = 6 * np.random.rand(m, 1) - 3\n",
    "y = 0.5 * X**2 + X + 2 + np.random.randn(m, 1)\n",
    "\n",
    "np.random.seed(42)"
   ]
  },
  {
   "cell_type": "code",
   "execution_count": 10,
   "metadata": {},
   "outputs": [],
   "source": [
    "from sklearn.preprocessing import PolynomialFeatures\n",
    "poly_features = PolynomialFeatures(degree=2, include_bias=False)\n",
    "X_poly = poly_features.fit_transform(X)"
   ]
  },
  {
   "cell_type": "code",
   "execution_count": 39,
   "metadata": {},
   "outputs": [
    {
     "data": {
      "text/plain": [
       "array([0.85031175])"
      ]
     },
     "execution_count": 39,
     "metadata": {},
     "output_type": "execute_result"
    }
   ],
   "source": [
    "X[0]"
   ]
  },
  {
   "cell_type": "code",
   "execution_count": 40,
   "metadata": {},
   "outputs": [
    {
     "data": {
      "text/plain": [
       "array([0.85031175, 0.72303007])"
      ]
     },
     "execution_count": 40,
     "metadata": {},
     "output_type": "execute_result"
    }
   ],
   "source": [
    "X_poly[0]"
   ]
  },
  {
   "cell_type": "code",
   "execution_count": 11,
   "metadata": {},
   "outputs": [
    {
     "data": {
      "text/plain": [
       "(array([1.99958228]), array([[1.04630034, 0.5015459 ]]))"
      ]
     },
     "execution_count": 11,
     "metadata": {},
     "output_type": "execute_result"
    }
   ],
   "source": [
    "lin_reg = LinearRegression()\n",
    "lin_reg.fit(X_poly, y)\n",
    "lin_reg.intercept_, lin_reg.coef_"
   ]
  },
  {
   "cell_type": "code",
   "execution_count": 13,
   "metadata": {},
   "outputs": [
    {
     "data": {
      "image/png": "[encoded data removed]",
      "text/plain": [
       "<Figure size 432x288 with 1 Axes>"
      ]
     },
     "metadata": {
      "needs_background": "light"
     },
     "output_type": "display_data"
    }
   ],
   "source": [
    "X_new=np.linspace(-3, 3, 100).reshape(100, 1)\n",
    "X_new_poly = poly_features.transform(X_new)\n",
    "y_new = lin_reg.predict(X_new_poly)\n",
    "plt.plot(X, y, \"b.\")\n",
    "plt.plot(X_new, y_new, \"r-\", linewidth=2, label=\"Predictions\")\n",
    "plt.xlabel(\"$x_1$\", fontsize=18)\n",
    "plt.ylabel(\"$y$\", rotation=0, fontsize=18)\n",
    "plt.legend(loc=\"upper left\", fontsize=14)\n",
    "plt.axis([-3, 3, 0, 10])\n",
    "#save_fig(\"quadratic_predictions_plot\")\n",
    "plt.show()"
   ]
  },
  {
   "cell_type": "code",
   "execution_count": 21,
   "metadata": {},
   "outputs": [],
   "source": [
    "# Regularized models"
   ]
  },
  {
   "cell_type": "code",
   "execution_count": 43,
   "metadata": {},
   "outputs": [],
   "source": [
    "np.random.seed(42)\n",
    "m = 20\n",
    "X = 3 * np.random.rand(m, 1)\n",
    "y = 1 + 0.5 * X + np.random.randn(m, 1) / 1.5\n",
    "X_new = np.linspace(0, 3, 100).reshape(100, 1)"
   ]
  },
  {
   "cell_type": "code",
   "execution_count": 44,
   "metadata": {},
   "outputs": [
    {
     "data": {
      "text/plain": [
       "array([[1.5507201]])"
      ]
     },
     "execution_count": 44,
     "metadata": {},
     "output_type": "execute_result"
    }
   ],
   "source": [
    "from sklearn.linear_model import Ridge\n",
    "ridge_reg = Ridge(alpha=1, solver=\"sag\", random_state=42)\n",
    "ridge_reg.fit(X, y)\n",
    "ridge_reg.predict([[1.5]])"
   ]
  },
  {
   "cell_type": "code",
   "execution_count": 45,
   "metadata": {},
   "outputs": [
    {
     "data": {
      "text/plain": [
       "array([[1.5507201]])"
      ]
     },
     "execution_count": 45,
     "metadata": {},
     "output_type": "execute_result"
    }
   ],
   "source": [
    "ridge_reg = Ridge(alpha=1, solver=\"sag\", random_state=42)\n",
    "ridge_reg.fit(X, y)\n",
    "ridge_reg.predict([[1.5]])"
   ]
  },
  {
   "cell_type": "code",
   "execution_count": 46,
   "metadata": {},
   "outputs": [
    {
     "data": {
      "text/plain": [
       "array([1.53788174])"
      ]
     },
     "execution_count": 46,
     "metadata": {},
     "output_type": "execute_result"
    }
   ],
   "source": [
    "from sklearn.linear_model import Lasso\n",
    "lasso_reg = Lasso(alpha=0.1)\n",
    "lasso_reg.fit(X, y)\n",
    "lasso_reg.predict([[1.5]])"
   ]
  },
  {
   "cell_type": "code",
   "execution_count": null,
   "metadata": {},
   "outputs": [],
   "source": []
  },
  {
   "cell_type": "code",
   "execution_count": null,
   "metadata": {},
   "outputs": [],
   "source": []
  }
 ],
 "metadata": {
  "kernelspec": {
   "display_name": "Python 3",
   "language": "python",
   "name": "python3"
  },
  "language_info": {
   "codemirror_mode": {
    "name": "ipython",
    "version": 3
   },
   "file_extension": ".py",
   "mimetype": "text/x-python",
   "name": "python",
   "nbconvert_exporter": "python",
   "pygments_lexer": "ipython3",
   "version": "3.8.3"
  }
 },
 "nbformat": 4,
 "nbformat_minor": 2
}
